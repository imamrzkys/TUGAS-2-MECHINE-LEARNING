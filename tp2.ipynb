{
 "cells": [
  {
   "cell_type": "code",
   "execution_count": 1,
   "id": "c97c1a79",
   "metadata": {},
   "outputs": [
    {
     "name": "stdout",
     "output_type": "stream",
     "text": [
      "--- 5 Baris Pertama ---\n",
      "   ID     Exercise  Calories Burn  Dream Weight  Actual Weight  Age  Gender  \\\n",
      "0   1   Exercise 2     286.959851     91.892531      96.301115   45    Male   \n",
      "1   2   Exercise 7     343.453036     64.165097      61.104668   25    Male   \n",
      "2   3   Exercise 4     261.223465     70.846224      71.766724   20    Male   \n",
      "3   4   Exercise 5     127.183858     79.477008      82.984456   33    Male   \n",
      "4   5  Exercise 10     416.318374     89.960226      85.643174   29  Female   \n",
      "\n",
      "   Duration  Heart Rate        BMI Weather Conditions  Exercise Intensity  \n",
      "0        37         170  29.426275              Rainy                   5  \n",
      "1        43         142  21.286346              Rainy                   5  \n",
      "2        20         148  27.899592             Cloudy                   4  \n",
      "3        39         170  33.729552              Sunny                  10  \n",
      "4        34         118  23.286113             Cloudy                   3  \n",
      "\n",
      "--- Nama Kolom ---\n",
      "Index(['ID', 'Exercise', 'Calories Burn', 'Dream Weight', 'Actual Weight',\n",
      "       'Age', 'Gender', 'Duration', 'Heart Rate', 'BMI', 'Weather Conditions',\n",
      "       'Exercise Intensity'],\n",
      "      dtype='object')\n"
     ]
    }
   ],
   "source": [
    "import pandas as pd\n",
    "\n",
    "# Ganti dengan nama file dataset setelah di-download\n",
    "df = pd.read_csv(\"exercise_dataset.csv\")  # contoh nama file\n",
    "\n",
    "print(\"--- 5 Baris Pertama ---\")\n",
    "print(df.head())\n",
    "\n",
    "print(\"\\n--- Nama Kolom ---\")\n",
    "print(df.columns)"
   ]
  }
 ],
 "metadata": {
  "kernelspec": {
   "display_name": "Python 3",
   "language": "python",
   "name": "python3"
  },
  "language_info": {
   "codemirror_mode": {
    "name": "ipython",
    "version": 3
   },
   "file_extension": ".py",
   "mimetype": "text/x-python",
   "name": "python",
   "nbconvert_exporter": "python",
   "pygments_lexer": "ipython3",
   "version": "3.11.0"
  }
 },
 "nbformat": 4,
 "nbformat_minor": 5
}
